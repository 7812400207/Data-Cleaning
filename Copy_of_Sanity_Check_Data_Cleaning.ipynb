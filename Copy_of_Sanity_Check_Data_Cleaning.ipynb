{
  "nbformat": 4,
  "nbformat_minor": 0,
  "metadata": {
    "colab": {
      "provenance": [],
      "authorship_tag": "ABX9TyO7u4dUH1oZVeh/jQIXaT0N",
      "include_colab_link": true
    },
    "kernelspec": {
      "name": "python3",
      "display_name": "Python 3"
    },
    "language_info": {
      "name": "python"
    }
  },
  "cells": [
    {
      "cell_type": "markdown",
      "metadata": {
        "id": "view-in-github",
        "colab_type": "text"
      },
      "source": [
        "<a href=\"https://colab.research.google.com/github/7812400207/Data-Cleaning/blob/main/Copy_of_Sanity_Check_Data_Cleaning.ipynb\" target=\"_parent\"><img src=\"https://colab.research.google.com/assets/colab-badge.svg\" alt=\"Open In Colab\"/></a>"
      ]
    },
    {
      "cell_type": "code",
      "execution_count": null,
      "metadata": {
        "colab": {
          "base_uri": "https://localhost:8080/"
        },
        "id": "PIvoo9XBlKrU",
        "outputId": "5b62b4a7-ff77-4074-a33c-14031a8ed351"
      },
      "outputs": [
        {
          "output_type": "stream",
          "name": "stdout",
          "text": [
            "Requirement already satisfied: pandas in /usr/local/lib/python3.10/dist-packages (1.5.3)\n",
            "Requirement already satisfied: python-dateutil>=2.8.1 in /usr/local/lib/python3.10/dist-packages (from pandas) (2.8.2)\n",
            "Requirement already satisfied: pytz>=2020.1 in /usr/local/lib/python3.10/dist-packages (from pandas) (2023.4)\n",
            "Requirement already satisfied: numpy>=1.21.0 in /usr/local/lib/python3.10/dist-packages (from pandas) (1.25.2)\n",
            "Requirement already satisfied: six>=1.5 in /usr/local/lib/python3.10/dist-packages (from python-dateutil>=2.8.1->pandas) (1.16.0)\n"
          ]
        }
      ],
      "source": [
        "!pip install pandas\n"
      ]
    },
    {
      "cell_type": "code",
      "source": [
        "import matplotlib.pyplot as plt"
      ],
      "metadata": {
        "id": "3Jyvs6VxlSr8"
      },
      "execution_count": null,
      "outputs": []
    },
    {
      "cell_type": "code",
      "source": [
        "import pandas as pd\n",
        "df1 = pd.read_csv('Credit Banking_Project - 1.xls - Customer Acqusition.csv')\n",
        "print(df1)"
      ],
      "metadata": {
        "colab": {
          "base_uri": "https://localhost:8080/"
        },
        "id": "c3t5oadrljNX",
        "outputId": "274273ad-2422-40b6-b165-91ed6fa26ab1"
      },
      "execution_count": null,
      "outputs": [
        {
          "output_type": "stream",
          "name": "stdout",
          "text": [
            "    Sl No: Customer      Age        City Credit Card Product           Limit  \\\n",
            "0        1       A1   0.9285   BANGALORE                Gold  INR 500,000.00   \n",
            "1        2       A2  35.5346    CALCUTTA              Silver  INR 100,000.00   \n",
            "2        3       A3  11.5593      COCHIN            Platimum   INR 10,000.00   \n",
            "3        4       A4  45.8203      BOMBAY            Platimum   INR 10,001.00   \n",
            "4        5       A5  69.6639   BANGALORE            Platimum   INR 10,002.00   \n",
            "..     ...      ...      ...         ...                 ...             ...   \n",
            "95      96      A96  29.6316     CHENNAI              Silver  INR 100,000.00   \n",
            "96      97      A97  20.6118  TRIVANDRUM            Platimum   INR 10,000.00   \n",
            "97      98      A98  40.5390    CALCUTTA            Platimum   INR 10,001.00   \n",
            "98      99      A99  21.5887    CALCUTTA            Platimum   INR 10,002.00   \n",
            "99     100     A100  23.6076      COCHIN              Silver  INR 100,000.00   \n",
            "\n",
            "   Company        Segment  \n",
            "0       C1  Self Employed  \n",
            "1       C2   Salaried_MNC  \n",
            "2       C3   Salaried_Pvt  \n",
            "3       C4           Govt  \n",
            "4       C5  Normal Salary  \n",
            "..     ...            ...  \n",
            "95     C19   Salaried_Pvt  \n",
            "96     C20           Govt  \n",
            "97     C21  Normal Salary  \n",
            "98     C22  Self Employed  \n",
            "99      C5   Salaried_MNC  \n",
            "\n",
            "[100 rows x 8 columns]\n"
          ]
        }
      ]
    },
    {
      "cell_type": "code",
      "source": [
        "df2 = pd.read_csv('Credit Banking_Project - 1.xls - Spend.csv')\n",
        "print(df2)"
      ],
      "metadata": {
        "colab": {
          "base_uri": "https://localhost:8080/"
        },
        "id": "8h_7d_kYnBEi",
        "outputId": "bf5cc533-2f21-4a9d-9946-087909330f6c"
      },
      "execution_count": null,
      "outputs": [
        {
          "output_type": "stream",
          "name": "stdout",
          "text": [
            "      Sl No: Costomer      Month        Type  Amount\n",
            "0          1       A1  12-Jan-04   JEWELLERY  473776\n",
            "1          2       A1   3-Jan-04       PETRO  335579\n",
            "2          3       A1  15-Jan-04     CLOTHES  371041\n",
            "3          4       A1  25-Jan-04        FOOD  141178\n",
            "4          5       A1  17-Jan-05      CAMERA  398404\n",
            "...      ...      ...        ...         ...     ...\n",
            "1495    1496      A67   4-Feb-06  BUS TICKET  195841\n",
            "1496    1497      A68  25-Mar-06  BUS TICKET  284263\n",
            "1497    1498      A69  31-Mar-06  BUS TICKET  206552\n",
            "1498    1499      A70  23-Mar-06  BUS TICKET   41025\n",
            "1499    1500      A71  24-Mar-06  BUS TICKET  101398\n",
            "\n",
            "[1500 rows x 5 columns]\n"
          ]
        }
      ]
    },
    {
      "cell_type": "code",
      "source": [
        "df3 = pd.read_csv('Credit Banking_Project - 1.xls - Repayment.csv')\n",
        "print(df3)"
      ],
      "metadata": {
        "colab": {
          "base_uri": "https://localhost:8080/"
        },
        "id": "J9S39fcznVhL",
        "outputId": "581e3c19-4518-4de3-9936-3c814bde86e1"
      },
      "execution_count": null,
      "outputs": [
        {
          "output_type": "stream",
          "name": "stdout",
          "text": [
            "      SL No: Costomer      Month         Amount\n",
            "0          1       A1  12-Jan-04  331844.007400\n",
            "1          2       A1   3-Jan-04  441139.807300\n",
            "2          3       A1  15-Jan-04   32480.004010\n",
            "3          4       A1  25-Jan-04   90636.966530\n",
            "4          5       A1  17-Jan-05    1581.969829\n",
            "...      ...      ...        ...            ...\n",
            "1495    1496      A67   9-May-05  200288.874100\n",
            "1496    1497      A68  10-May-06  231194.702300\n",
            "1497    1498      A69  11-Jul-06  391195.615800\n",
            "1498    1499      A70  12-Aug-05  357629.618200\n",
            "1499    1500      A71  13-Sep-04  179771.745200\n",
            "\n",
            "[1500 rows x 4 columns]\n"
          ]
        }
      ]
    },
    {
      "cell_type": "code",
      "source": [
        "df2 = df2.rename(columns={'Costomer': 'Customer'})\n",
        "df3 = df3.rename(columns={'Costomer': 'Customer'})"
      ],
      "metadata": {
        "id": "jSytX_JLnZct"
      },
      "execution_count": null,
      "outputs": []
    },
    {
      "cell_type": "code",
      "source": [
        "# Calculate the average age\n",
        "average_age = df1['Age'].mean()\n",
        "print('Average age is: ', average_age, '\\n')\n",
        "# Replace ages less than 18 with the average age\n",
        "df1.loc[df1['Age'] < 18, 'Age'] = average_age\n",
        "# Verify the changes\n",
        "print(df1)"
      ],
      "metadata": {
        "colab": {
          "base_uri": "https://localhost:8080/"
        },
        "id": "ykyc_zzlnd4V",
        "outputId": "daf9b0df-b303-40ac-915f-a52e045fa2ac"
      },
      "execution_count": null,
      "outputs": [
        {
          "output_type": "stream",
          "name": "stdout",
          "text": [
            "Average age is:  40.146511000000004 \n",
            "\n",
            "    Sl No: Customer        Age        City Credit Card Product  \\\n",
            "0        1       A1  40.146511   BANGALORE                Gold   \n",
            "1        2       A2  35.534600    CALCUTTA              Silver   \n",
            "2        3       A3  40.146511      COCHIN            Platimum   \n",
            "3        4       A4  45.820300      BOMBAY            Platimum   \n",
            "4        5       A5  69.663900   BANGALORE            Platimum   \n",
            "..     ...      ...        ...         ...                 ...   \n",
            "95      96      A96  29.631600     CHENNAI              Silver   \n",
            "96      97      A97  20.611800  TRIVANDRUM            Platimum   \n",
            "97      98      A98  40.539000    CALCUTTA            Platimum   \n",
            "98      99      A99  21.588700    CALCUTTA            Platimum   \n",
            "99     100     A100  23.607600      COCHIN              Silver   \n",
            "\n",
            "             Limit Company        Segment  \n",
            "0   INR 500,000.00      C1  Self Employed  \n",
            "1   INR 100,000.00      C2   Salaried_MNC  \n",
            "2    INR 10,000.00      C3   Salaried_Pvt  \n",
            "3    INR 10,001.00      C4           Govt  \n",
            "4    INR 10,002.00      C5  Normal Salary  \n",
            "..             ...     ...            ...  \n",
            "95  INR 100,000.00     C19   Salaried_Pvt  \n",
            "96   INR 10,000.00     C20           Govt  \n",
            "97   INR 10,001.00     C21  Normal Salary  \n",
            "98   INR 10,002.00     C22  Self Employed  \n",
            "99  INR 100,000.00      C5   Salaried_MNC  \n",
            "\n",
            "[100 rows x 8 columns]\n"
          ]
        }
      ]
    },
    {
      "cell_type": "code",
      "source": [
        "# Convert 'RepaymentDate' column to datetime format\n",
        "df3['Month'] = pd.to_datetime(df3['Month'])\n",
        "\n",
        "# Extract month from 'RepaymentDate' column\n",
        "df3['Month'] = df3['Month'].dt.month\n",
        "\n",
        "# Group by customer ID and month, then sum the repayment amount\n",
        "monthly_repayment = df3.groupby(['Customer', 'Month'])['Amount'].sum()\n",
        "\n",
        "# Reset index to make it a DataFrame\n",
        "monthly_repayment = monthly_repayment.reset_index()\n",
        "\n",
        "# Print the result\n",
        "print(monthly_repayment)"
      ],
      "metadata": {
        "colab": {
          "base_uri": "https://localhost:8080/"
        },
        "id": "fOn8XX6Unkm-",
        "outputId": "57122c1e-7a6d-451e-9207-50664ed5e25c"
      },
      "execution_count": null,
      "outputs": [
        {
          "output_type": "stream",
          "name": "stdout",
          "text": [
            "    Customer  Month        Amount\n",
            "0         A1      1  1.364357e+06\n",
            "1         A1      2  1.390988e+06\n",
            "2         A1      4  3.712733e+05\n",
            "3         A1      7  3.005817e+05\n",
            "4         A1      9  1.083201e+05\n",
            "..       ...    ...           ...\n",
            "553      A95      1  7.510949e+04\n",
            "554      A96      1  1.101390e+05\n",
            "555      A97      1  1.746064e+05\n",
            "556      A98      1  9.780260e+04\n",
            "557      A99      1  3.585899e+05\n",
            "\n",
            "[558 rows x 3 columns]\n"
          ]
        }
      ]
    },
    {
      "cell_type": "code",
      "source": [
        "# Group by customer and sum the repayment amount\n",
        "total_repayment = df3.groupby('Customer')['Amount'].sum()\n",
        "\n",
        "total_repayment_sorted = total_repayment.sort_values(ascending=False)\n",
        "\n",
        "# Select the top 10 customers\n",
        "top_10_customers = total_repayment_sorted.head(10)\n",
        "\n",
        "# Print the result\n",
        "print(top_10_customers)"
      ],
      "metadata": {
        "colab": {
          "base_uri": "https://localhost:8080/"
        },
        "id": "9j_FJOvGnmrX",
        "outputId": "29b990de-7eff-4d1f-9c1a-b5785b0a2ed8"
      },
      "execution_count": null,
      "outputs": [
        {
          "output_type": "stream",
          "name": "stdout",
          "text": [
            "Customer\n",
            "A22    9.767171e+06\n",
            "A60    9.262032e+06\n",
            "A61    8.807888e+06\n",
            "A40    8.805085e+06\n",
            "A47    8.529826e+06\n",
            "A43    8.458621e+06\n",
            "A48    8.432804e+06\n",
            "A41    8.374046e+06\n",
            "A49    8.259841e+06\n",
            "A45    8.115210e+06\n",
            "Name: Amount, dtype: float64\n"
          ]
        }
      ]
    },
    {
      "cell_type": "code",
      "source": [
        "# Merge df1 and df2 on 'Customer' column\n",
        "merged_df = pd.merge(df1, df2, on='Customer')\n",
        "\n",
        "# Group by segment and sum the spend amount\n",
        "segment_spend = merged_df.groupby('Segment')['Amount'].sum()\n",
        "\n",
        "# Sort the segment spend amounts in descending order\n",
        "segment_spend_sorted = segment_spend.sort_values(ascending=False)\n",
        "\n",
        "# Print the result\n",
        "print(segment_spend_sorted)"
      ],
      "metadata": {
        "colab": {
          "base_uri": "https://localhost:8080/"
        },
        "id": "-25DxcTanqVd",
        "outputId": "a2073a77-c669-4025-f7ac-6cbcca06d3ed"
      },
      "execution_count": null,
      "outputs": [
        {
          "output_type": "stream",
          "name": "stdout",
          "text": [
            "Segment\n",
            "Normal Salary    107707139\n",
            "Salaried_Pvt      71704312\n",
            "Self Employed     70975481\n",
            "Govt              67325627\n",
            "Salaried_MNC      63639486\n",
            "Name: Amount, dtype: int64\n"
          ]
        }
      ]
    },
    {
      "cell_type": "code",
      "source": [
        "# Define age groups\n",
        "age_bins = [0, 20, 30, 40, 50, 60, 70, 80, 90, 100]\n",
        "age_labels = ['0-19', '20-29', '30-39', '40-49', '50-59', '60-69', '70-79', '80-89', '90-100']\n",
        "\n",
        "# Cut the 'Age' column into age groups in df1\n",
        "df1['AgeGroup'] = pd.cut(df1['Age'], bins=age_bins, labels=age_labels, right=False)\n",
        "\n",
        "# Merge df1 and df2 on 'Customer' column\n",
        "merged_df = pd.merge(df1, df2, on='Customer')\n",
        "\n",
        "# Group by age group and sum the spend amount\n",
        "age_group_spend = merged_df.groupby('AgeGroup')['Amount'].sum()\n",
        "\n",
        "# Sort the age group spend amounts in descending order\n",
        "age_group_spend_sorted = age_group_spend.sort_values(ascending=False)\n",
        "\n",
        "# Print the result\n",
        "print(age_group_spend_sorted)"
      ],
      "metadata": {
        "colab": {
          "base_uri": "https://localhost:8080/"
        },
        "id": "NcS6tlzLnt5C",
        "outputId": "9d9cda0b-df68-4bf1-b40d-fa6f7c11b0db"
      },
      "execution_count": null,
      "outputs": [
        {
          "output_type": "stream",
          "name": "stdout",
          "text": [
            "AgeGroup\n",
            "40-49     135712811\n",
            "60-69      71432443\n",
            "70-79      62662744\n",
            "50-59      46888428\n",
            "20-29      36972283\n",
            "30-39      18566883\n",
            "0-19        9116453\n",
            "80-89             0\n",
            "90-100            0\n",
            "Name: Amount, dtype: int64\n"
          ]
        }
      ]
    },
    {
      "cell_type": "code",
      "source": [
        "# Merge df1 and df2 on 'Customer' column\n",
        "merged_df = pd.merge(df1, df2, on='Customer')\n",
        "\n",
        "# Group by segment and sum the spend amount\n",
        "segment_spend = merged_df.groupby('Segment')['Amount'].sum()\n",
        "\n",
        "# Group by segment and sum the repayment amount\n",
        "segment_repayment = df3.groupby('Customer')['Amount'].sum()\n",
        "merged_df['Repayment'] = merged_df['Customer'].map(segment_repayment)\n",
        "segment_repayment = merged_df.groupby('Segment')['Repayment'].sum()\n",
        "\n",
        "# Calculate profit for each segment (spend - repayment)\n",
        "segment_profit = segment_spend - segment_repayment\n",
        "\n",
        "# Find the segment with the highest profit\n",
        "most_profitable_segment = segment_profit.idxmax()\n",
        "\n",
        "# Print the result\n",
        "print(\"The most profitable segment is:\", most_profitable_segment)"
      ],
      "metadata": {
        "colab": {
          "base_uri": "https://localhost:8080/"
        },
        "id": "WUmvceqMn00G",
        "outputId": "9bbb6f25-0eb3-49d8-a520-82091b8212fe"
      },
      "execution_count": null,
      "outputs": [
        {
          "output_type": "stream",
          "name": "stdout",
          "text": [
            "The most profitable segment is: Govt\n"
          ]
        }
      ]
    },
    {
      "cell_type": "code",
      "source": [
        "# Group by category and sum the spend amount\n",
        "category_spend = df2.groupby('Type')['Amount'].sum()\n",
        "\n",
        "# Sort the category spend amounts in descending order\n",
        "category_spend_sorted = category_spend.sort_values(ascending=False)\n",
        "\n",
        "# Print the result\n",
        "print(category_spend_sorted)"
      ],
      "metadata": {
        "colab": {
          "base_uri": "https://localhost:8080/"
        },
        "id": "PQOOfBDvn2hX",
        "outputId": "620f4d7f-cd2f-46b8-a32e-b6232c2d306f"
      },
      "execution_count": null,
      "outputs": [
        {
          "output_type": "stream",
          "name": "stdout",
          "text": [
            "Type\n",
            "PETRO           51022578\n",
            "CAMERA          43721016\n",
            "FOOD            38296468\n",
            "AIR TICKET      37435466\n",
            "TRAIN TICKET    31812619\n",
            "SHOPPING        27418682\n",
            "JEWELLERY       25247944\n",
            "BUS TICKET      24905901\n",
            "CLOTHES         24791096\n",
            "RENTAL          20914668\n",
            "MOVIE TICKET    18784583\n",
            "BIKE            13152641\n",
            "AUTO            10505088\n",
            "CAR              7018277\n",
            "SANDALS          6325018\n",
            "Name: Amount, dtype: int64\n"
          ]
        }
      ]
    },
    {
      "cell_type": "code",
      "source": [
        "# Merge df1 and df2 on 'Customer' column\n",
        "merged_df = pd.merge(df1, df2, on='Customer')\n",
        "\n",
        "# Group by customer and sum the spend amount\n",
        "customer_spend = merged_df.groupby('Customer')['Amount'].sum()\n",
        "\n",
        "# Group by customer and sum the repayment amount\n",
        "customer_repayment = df3.groupby('Customer')['Amount'].sum()\n",
        "\n",
        "# Calculate due amount for each customer\n",
        "due_amount = customer_spend - customer_repayment\n",
        "\n",
        "# Calculate interest for each customer\n",
        "interest = due_amount * 0.029  # 2.9% interest rate\n",
        "\n",
        "# Add interest to the total repayment amount for each customer\n",
        "total_repayment_with_interest = customer_repayment + interest\n",
        "\n",
        "# Print the result\n",
        "print(total_repayment_with_interest)"
      ],
      "metadata": {
        "colab": {
          "base_uri": "https://localhost:8080/"
        },
        "id": "HDtkkGpen63t",
        "outputId": "9aeb66ff-6497-4d37-cbe0-4a297f89ae62"
      },
      "execution_count": null,
      "outputs": [
        {
          "output_type": "stream",
          "name": "stdout",
          "text": [
            "Customer\n",
            "A1      3.861702e+06\n",
            "A10     5.197845e+06\n",
            "A100    1.479837e+05\n",
            "A11     4.730852e+06\n",
            "A12     7.551753e+06\n",
            "            ...     \n",
            "A95     8.301850e+04\n",
            "A96     1.162355e+05\n",
            "A97     1.743084e+05\n",
            "A98     9.750336e+04\n",
            "A99     3.619954e+05\n",
            "Name: Amount, Length: 100, dtype: float64\n"
          ]
        }
      ]
    },
    {
      "cell_type": "code",
      "source": [
        "df4 = pd.read_csv('Credit Banking_Project - 1.xls - Repayment.csv')\n",
        "df4 = df4.rename(columns={'Costomer': 'Customer'})\n",
        "\n",
        "# Convert 'RepaymentDate' column to datetime format\n",
        "df4['Month'] = pd.to_datetime(df4['Month'])\n",
        "\n",
        "# Extract month from 'RepaymentDate' column\n",
        "df4['Month'] = df4['Month'].dt.month\n",
        "\n",
        "# Merge df1 and df2 on 'Customer' column\n",
        "merged_df = pd.merge(df1, df2, on='Customer')\n",
        "\n",
        "# Group by month and sum the spend amount\n",
        "monthly_spend = merged_df.groupby('Month')['Amount'].sum()\n",
        "\n",
        "\n",
        "# Group by month and sum the repayment amount\n",
        "monthly_repayment = df3.groupby('Month')['Amount'].sum()\n",
        "print(monthly_repayment)\n",
        "\n",
        "# Calculate monthly profit (spend - repayment)\n",
        "monthly_profit = monthly_spend - monthly_repayment\n",
        "\n",
        "# Fill NaN values with 0\n",
        "#monthly_profit = monthly_profit.fillna(0)\n",
        "\n",
        "# Print the result\n",
        "print(monthly_profit)"
      ],
      "metadata": {
        "colab": {
          "base_uri": "https://localhost:8080/"
        },
        "id": "46PdKw9CoFjB",
        "outputId": "1a546313-e933-4c33-9572-11505a785812"
      },
      "execution_count": null,
      "outputs": [
        {
          "output_type": "stream",
          "name": "stdout",
          "text": [
            "Month\n",
            "1     7.811722e+07\n",
            "2     5.683854e+07\n",
            "3     5.466582e+07\n",
            "4     3.812188e+07\n",
            "5     6.357176e+07\n",
            "6     1.176783e+07\n",
            "7     1.200257e+07\n",
            "8     1.156848e+07\n",
            "9     1.131692e+07\n",
            "10    5.914889e+06\n",
            "11    2.106101e+07\n",
            "12    6.261530e+06\n",
            "Name: Amount, dtype: float64\n",
            "Month\n",
            "1-Apr-06    NaN\n",
            "1-Feb-05    NaN\n",
            "1-Jun-05    NaN\n",
            "10-May-06   NaN\n",
            "11-Jul-06   NaN\n",
            "             ..\n",
            "8           NaN\n",
            "9           NaN\n",
            "10          NaN\n",
            "11          NaN\n",
            "12          NaN\n",
            "Name: Amount, Length: 86, dtype: float64\n"
          ]
        }
      ]
    },
    {
      "cell_type": "code",
      "source": [
        "# Convert 'RepaymentDate' column to datetime format\n",
        "df3['Month'] = pd.to_datetime(df3['Month'])\n",
        "\n",
        "# Extract month from 'RepaymentDate' column\n",
        "df3['Month'] = df3['Month'].dt.month\n",
        "\n",
        "# Merge df1 and df2 on 'Customer' column\n",
        "merged_df = pd.merge(df1, df2, on='Customer')\n",
        "\n",
        "# Group by month and sum the spend amount\n",
        "monthly_spend = merged_df.groupby('Month')['Amount'].sum()\n",
        "\n",
        "# Group by month and sum the repayment amount\n",
        "monthly_repayment = df3.groupby('Month')['Amount'].sum()\n",
        "\n",
        "# Calculate monthly profit (spend - repayment)\n",
        "monthly_profit = monthly_spend.sub(monthly_repayment, fill_value=0)\n",
        "\n",
        "# Print the result\n",
        "print(monthly_profit)"
      ],
      "metadata": {
        "colab": {
          "base_uri": "https://localhost:8080/"
        },
        "id": "W4ZMwXDFoMqX",
        "outputId": "3845a2c8-e2ce-4fb1-c180-6ffebb23f4c8"
      },
      "execution_count": null,
      "outputs": [
        {
          "output_type": "stream",
          "name": "stdout",
          "text": [
            "Month\n",
            "1-Apr-06     3.604762e+06\n",
            "1-Feb-05     5.383170e+06\n",
            "1-Jun-05     4.390632e+06\n",
            "10-May-06    3.036774e+06\n",
            "11-Jul-06    3.877006e+06\n",
            "                 ...     \n",
            "6-May-06     3.046085e+06\n",
            "7-May-05     3.685865e+06\n",
            "8-May-06     3.859636e+06\n",
            "9-May-05     3.715704e+06\n",
            "1           -3.712084e+08\n",
            "Name: Amount, Length: 75, dtype: float64\n"
          ]
        }
      ]
    },
    {
      "cell_type": "code",
      "source": [
        "print(len(monthly_profit))"
      ],
      "metadata": {
        "colab": {
          "base_uri": "https://localhost:8080/"
        },
        "id": "RlqRFmISoQH5",
        "outputId": "8aa9ea4a-f3dd-4165-c3a3-2c43a27a6709"
      },
      "execution_count": null,
      "outputs": [
        {
          "output_type": "stream",
          "name": "stdout",
          "text": [
            "75\n"
          ]
        }
      ]
    }
  ]
}